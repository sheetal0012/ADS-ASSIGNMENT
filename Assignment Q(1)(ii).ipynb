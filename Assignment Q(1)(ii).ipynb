{
 "cells": [
  {
   "cell_type": "code",
   "execution_count": 1,
   "id": "43aa597f-ebcc-4558-a25b-8ee846c30907",
   "metadata": {},
   "outputs": [],
   "source": [
    "import spacy\n",
    "from spacy.matcher import Matcher"
   ]
  },
  {
   "cell_type": "code",
   "execution_count": 2,
   "id": "979529da-cc94-46ec-9cc1-049ea2349f22",
   "metadata": {},
   "outputs": [],
   "source": [
    "nlp = spacy.load(\"en_core_web_sm\")"
   ]
  },
  {
   "cell_type": "code",
   "execution_count": 3,
   "id": "db3b5894-b00d-4a1b-b1f5-6c6aac511081",
   "metadata": {},
   "outputs": [],
   "source": [
    "input_file_path =\"C:/Users/Udith/Desktop/ADS Assignment/Question 1/Input.txt\"\n",
    "output_file_path =\"C:/Users/Udith/Desktop/ADS Assignment/Outputs/Output.txt\""
   ]
  },
  {
   "cell_type": "code",
   "execution_count": 4,
   "id": "7e9aa01e-9391-41aa-91ee-a44605af6088",
   "metadata": {},
   "outputs": [],
   "source": [
    "with open(input_file_path, \"r\") as f:\n",
    " text = f.read()"
   ]
  },
  {
   "cell_type": "code",
   "execution_count": 5,
   "id": "39888c80-e479-4820-9b19-b9b9921f5a3c",
   "metadata": {},
   "outputs": [],
   "source": [
    "# Process the text using spaCy\n",
    "doc = nlp(text)"
   ]
  },
  {
   "cell_type": "code",
   "execution_count": 6,
   "id": "340b4226-2fde-43be-a40f-fa2f41f02952",
   "metadata": {},
   "outputs": [],
   "source": [
    "# Initialize an empty list to store the named entities\n",
    "entities = []"
   ]
  },
  {
   "cell_type": "code",
   "execution_count": 7,
   "id": "95fe315c-4475-461f-a5e1-9d1d59cb2f11",
   "metadata": {},
   "outputs": [],
   "source": [
    "# Iterate through the named entities in the document\n",
    "for ent in doc.ents:\n",
    "    # Append the named entity to the list\n",
    "    entities.append((ent.text, ent.start_char, ent.end_char, ent.label_))"
   ]
  },
  {
   "cell_type": "code",
   "execution_count": 8,
   "id": "9009917a-c9c3-4e89-898f-8811f58ed451",
   "metadata": {},
   "outputs": [
    {
     "name": "stdout",
     "output_type": "stream",
     "text": [
      "Named entities have been written to the output file.\n"
     ]
    }
   ],
   "source": [
    "# Write the named entities to the output file\n",
    "with open(output_file_path, \"w\") as f:\n",
    "    for ent in entities:\n",
    "        f.write(f\"{ent[0]} {ent[1]} {ent[2]} {ent[3]}\\n\")\n",
    "print(\"Named entities have been written to the output file.\")"
   ]
  }
 ],
 "metadata": {
  "kernelspec": {
   "display_name": "Python 3 (ipykernel)",
   "language": "python",
   "name": "python3"
  },
  "language_info": {
   "codemirror_mode": {
    "name": "ipython",
    "version": 3
   },
   "file_extension": ".py",
   "mimetype": "text/x-python",
   "name": "python",
   "nbconvert_exporter": "python",
   "pygments_lexer": "ipython3",
   "version": "3.12.2"
  }
 },
 "nbformat": 4,
 "nbformat_minor": 5
}
